{
  "nbformat": 4,
  "nbformat_minor": 0,
  "metadata": {
    "colab": {
      "provenance": [],
      "authorship_tag": "ABX9TyMi86SBlQ9iVTh97Qi8xUgg",
      "include_colab_link": true
    },
    "kernelspec": {
      "name": "python3",
      "display_name": "Python 3"
    },
    "language_info": {
      "name": "python"
    }
  },
  "cells": [
    {
      "cell_type": "markdown",
      "metadata": {
        "id": "view-in-github",
        "colab_type": "text"
      },
      "source": [
        "<a href=\"https://colab.research.google.com/github/jsleweon11/Lead_Scoring_System/blob/main/Lead_Scoring_System.ipynb\" target=\"_parent\"><img src=\"https://colab.research.google.com/assets/colab-badge.svg\" alt=\"Open In Colab\"/></a>"
      ]
    },
    {
      "cell_type": "code",
      "execution_count": null,
      "metadata": {
        "id": "wsD8pXKHtyk9"
      },
      "outputs": [],
      "source": [
        "# Import necessary libraries\n",
        "import pandas as pd\n",
        "import matplotlib.pyplot as plt\n",
        "\n",
        "# Load the datasets\n",
        "df_mn = pd.read_csv('/mnt/data/cleaned_combined_MN90DaysAllcounties.csv')\n",
        "df_fl = pd.read_csv('/mnt/data/cleaned_combined_FL90DaysAllcounties.csv')\n",
        "df_tx = pd.read_csv('/mnt/data/cleaned_combined_TX90DaysAllcounties.csv')\n",
        "df_ga = pd.read_csv('/mnt/data/cleaned_combined_GA90DaysAllcounties.csv')\n",
        "df_oh = pd.read_csv('/mnt/data/cleaned_combined_OH90DaysAllcounties.csv')\n",
        "\n",
        "# Combine the dataframes\n",
        "df_combined = pd.concat([df_mn, df_fl, df_tx, df_ga, df_oh], ignore_index=True)\n",
        "\n",
        "# Check for missing values\n",
        "missing_values = df_combined.isnull().sum()\n",
        "print(\"Missing values in each column:\\n\", missing_values)\n",
        "\n",
        "# Define the scoring function\n",
        "def score_lead(row):\n",
        "    \"\"\"\n",
        "    This function calculates a lead score based on the number of beds, baths, AVM value,\n",
        "    total debt, and available equity.\n",
        "    \"\"\"\n",
        "    score = 0\n",
        "    score += row['Beds'] * 10\n",
        "    score += row['Baths'] * 10\n",
        "    score += row['AVMValue'] / 10000  # Normalizing the AVM value\n",
        "    score -= row['TotalDebt'] / 10000  # Lower debt is better\n",
        "    score += row['AvailablEquity'] / 10000  # Higher equity is better\n",
        "    return score\n",
        "\n",
        "# Apply the scoring function to create the lead_score column\n",
        "df_combined['lead_score'] = df_combined.apply(score_lead, axis=1)\n",
        "\n",
        "# Evaluate the lead scores\n",
        "lead_score_stats = df_combined['lead_score'].describe()\n",
        "print(\"Lead score statistics:\\n\", lead_score_stats)\n",
        "\n",
        "# Visualize the distribution of the lead scores\n",
        "plt.hist(df_combined['lead_score'], bins=50, edgecolor='k')\n",
        "plt.title('Distribution of Lead Scores')\n",
        "plt.xlabel('Lead Score')\n",
        "plt.ylabel('Frequency')\n",
        "plt.show()\n",
        "\n",
        "# Define the segmentation function\n",
        "def segment_lead(score):\n",
        "    \"\"\"\n",
        "    This function segments leads into high, medium, and low categories based on the lead score.\n",
        "    \"\"\"\n",
        "    if score > 150:\n",
        "        return 'High'\n",
        "    elif score > 50:\n",
        "        return 'Medium'\n",
        "    else:\n",
        "        return 'Low'\n",
        "\n",
        "# Apply the segmentation function to create the lead_segment column\n",
        "df_combined['lead_segment'] = df_combined['lead_score'].apply(segment_lead)\n",
        "\n",
        "# Check the distribution of lead segments\n",
        "lead_segment_distribution = df_combined['lead_segment'].value_counts()\n",
        "print(\"Lead segment distribution:\\n\", lead_segment_distribution)\n",
        "\n",
        "# Analyze segments - Summary statistics for each segment\n",
        "segment_analysis = df_combined.groupby('lead_segment').describe()\n",
        "print(\"Segment analysis:\\n\", segment_analysis)\n",
        "\n",
        "# Filter high leads\n",
        "high_leads = df_combined[df_combined['lead_segment'] == 'High']\n",
        "\n",
        "# Save high leads to a new CSV\n",
        "high_leads.to_csv('high_leads.csv', index=False)\n",
        "\n",
        "# Output the path to the new CSV file\n",
        "print(\"High leads saved to 'high_leads.csv'\")\n"
      ]
    }
  ]
}